{
 "cells": [
  {
   "cell_type": "code",
   "execution_count": null,
   "id": "8ca138fb-cbcb-4257-bddb-72697b5324b7",
   "metadata": {},
   "outputs": [],
   "source": []
  }
 ],
 "metadata": {
  "kernelspec": {
   "display_name": "",
   "name": ""
  },
  "language_info": {
   "name": ""
  }
 },
 "nbformat": 4,
 "nbformat_minor": 5
}
