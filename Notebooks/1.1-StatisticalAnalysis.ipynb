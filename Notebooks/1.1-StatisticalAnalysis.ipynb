{
 "cells": [
  {
   "cell_type": "code",
   "execution_count": 12,
   "id": "4513e685-6eda-4573-b573-9320a7caa02e",
   "metadata": {},
   "outputs": [],
   "source": [
    "import os\n",
    "import sqlite3\n",
    "import pandas as pd\n",
    "import matplotlib.pyplot as plt\n",
    "from collections import Counter"
   ]
  },
  {
   "cell_type": "code",
   "execution_count": 3,
   "id": "cb918aa3-7ade-40e2-83db-a63049346034",
   "metadata": {},
   "outputs": [],
   "source": [
    "# Connect to the database and load cleaned data\n",
    "path = os.path.join('..', 'Database', 'news.db')\n",
    "conn = sqlite3.connect(path)\n",
    "df = pd.read_sql(\"SELECT * FROM cleanedText\", conn)\n",
    "conn.close()"
   ]
  },
  {
   "cell_type": "code",
   "execution_count": 4,
   "id": "8d6d05f2-7df7-4668-8284-3fc7277a168d",
   "metadata": {},
   "outputs": [
    {
     "name": "stdout",
     "output_type": "stream",
     "text": [
      "Dataset Shape: (44898, 3)\n"
     ]
    }
   ],
   "source": [
    "# Display dataset info\n",
    "print(\"Dataset Shape:\", df.shape)"
   ]
  },
  {
   "cell_type": "code",
   "execution_count": 5,
   "id": "17846d01-6681-4ae1-adf6-d22af4202900",
   "metadata": {},
   "outputs": [
    {
     "data": {
      "text/html": [
       "<div>\n",
       "<style scoped>\n",
       "    .dataframe tbody tr th:only-of-type {\n",
       "        vertical-align: middle;\n",
       "    }\n",
       "\n",
       "    .dataframe tbody tr th {\n",
       "        vertical-align: top;\n",
       "    }\n",
       "\n",
       "    .dataframe thead th {\n",
       "        text-align: right;\n",
       "    }\n",
       "</style>\n",
       "<table border=\"1\" class=\"dataframe\">\n",
       "  <thead>\n",
       "    <tr style=\"text-align: right;\">\n",
       "      <th></th>\n",
       "      <th>id</th>\n",
       "      <th>cleaned_text</th>\n",
       "      <th>label</th>\n",
       "    </tr>\n",
       "  </thead>\n",
       "  <tbody>\n",
       "    <tr>\n",
       "      <th>0</th>\n",
       "      <td>1</td>\n",
       "      <td>washington reuters head conservative republica...</td>\n",
       "      <td>real</td>\n",
       "    </tr>\n",
       "    <tr>\n",
       "      <th>1</th>\n",
       "      <td>2</td>\n",
       "      <td>washington reuters transgender people allowed ...</td>\n",
       "      <td>real</td>\n",
       "    </tr>\n",
       "    <tr>\n",
       "      <th>2</th>\n",
       "      <td>3</td>\n",
       "      <td>washington reuters special counsel investigati...</td>\n",
       "      <td>real</td>\n",
       "    </tr>\n",
       "    <tr>\n",
       "      <th>3</th>\n",
       "      <td>4</td>\n",
       "      <td>washington reuters trump campaign adviser geor...</td>\n",
       "      <td>real</td>\n",
       "    </tr>\n",
       "    <tr>\n",
       "      <th>4</th>\n",
       "      <td>5</td>\n",
       "      <td>seattlewashington reuters president donald tru...</td>\n",
       "      <td>real</td>\n",
       "    </tr>\n",
       "  </tbody>\n",
       "</table>\n",
       "</div>"
      ],
      "text/plain": [
       "   id                                       cleaned_text label\n",
       "0   1  washington reuters head conservative republica...  real\n",
       "1   2  washington reuters transgender people allowed ...  real\n",
       "2   3  washington reuters special counsel investigati...  real\n",
       "3   4  washington reuters trump campaign adviser geor...  real\n",
       "4   5  seattlewashington reuters president donald tru...  real"
      ]
     },
     "execution_count": 5,
     "metadata": {},
     "output_type": "execute_result"
    }
   ],
   "source": [
    "df.head()  # Show first 5 rows"
   ]
  },
  {
   "cell_type": "code",
   "execution_count": 6,
   "id": "7080646c-aa63-4382-a552-1afa731a5f68",
   "metadata": {},
   "outputs": [
    {
     "name": "stdout",
     "output_type": "stream",
     "text": [
      "<class 'pandas.core.frame.DataFrame'>\n",
      "RangeIndex: 44898 entries, 0 to 44897\n",
      "Data columns (total 3 columns):\n",
      " #   Column        Non-Null Count  Dtype \n",
      "---  ------        --------------  ----- \n",
      " 0   id            44898 non-null  int64 \n",
      " 1   cleaned_text  44898 non-null  object\n",
      " 2   label         44898 non-null  object\n",
      "dtypes: int64(1), object(2)\n",
      "memory usage: 1.0+ MB\n"
     ]
    }
   ],
   "source": [
    "df.info() # Data type of each column"
   ]
  },
  {
   "cell_type": "code",
   "execution_count": 9,
   "id": "b45b1b1b-8369-4f5f-b788-919b902a2ad1",
   "metadata": {},
   "outputs": [],
   "source": [
    "# Compute word count for cleaned articles\n",
    "df[\"word_count\"] = df[\"cleaned_text\"].apply(lambda x: len(str(x).split())) "
   ]
  },
  {
   "cell_type": "code",
   "execution_count": 10,
   "id": "e017a3dd-810c-46e3-8cd4-c132198b8c53",
   "metadata": {},
   "outputs": [
    {
     "data": {
      "image/png": "[encoded data removed]",
      "text/plain": [
       "<Figure size 800x500 with 1 Axes>"
      ]
     },
     "metadata": {},
     "output_type": "display_data"
    }
   ],
   "source": [
    "# Plot histogram of word counts\n",
    "plt.figure(figsize=(8,5))\n",
    "plt.hist(df[\"word_count\"], bins=50, color=\"purple\", alpha=0.7)\n",
    "plt.xlabel(\"Number of Words\")\n",
    "plt.ylabel(\"Frequency\")\n",
    "plt.title(\"Distribution of Cleaned Article Lengths\")\n",
    "plt.show()"
   ]
  },
  {
   "cell_type": "code",
   "execution_count": 11,
   "id": "4753410b-9e16-4a0c-8d58-949b5737ac92",
   "metadata": {},
   "outputs": [
    {
     "name": "stdout",
     "output_type": "stream",
     "text": [
      "count    44898.000000\n",
      "mean       228.746603\n",
      "std        199.219490\n",
      "min          0.000000\n",
      "25%        115.000000\n",
      "50%        201.000000\n",
      "75%        286.000000\n",
      "max       4841.000000\n",
      "Name: word_count, dtype: float64\n"
     ]
    }
   ],
   "source": [
    "# Display basic statistics\n",
    "print(df[\"word_count\"].describe())"
   ]
  },
  {
   "cell_type": "code",
   "execution_count": 24,
   "id": "c6627c8d-dbf4-4c44-b9fe-ced240b21555",
   "metadata": {},
   "outputs": [],
   "source": [
    "def get_top_words(text_list, num_words):\n",
    "    words = []\n",
    "    for text in text_list:\n",
    "        words.extend(str(text).split())  # Split each cleaned article into words\n",
    "    \n",
    "    word_counts = Counter(words)\n",
    "    return word_counts.most_common(num_words)"
   ]
  },
  {
   "cell_type": "code",
   "execution_count": 23,
   "id": "fa01ab9a-1ac9-40a2-bb57-7a4f3b35f5ea",
   "metadata": {},
   "outputs": [
    {
     "name": "stdout",
     "output_type": "stream",
     "text": [
      "Top 25 Most Frequent Words:\n",
      "said: 130052\n",
      "trump: 128617\n",
      "u: 63523\n",
      "state: 58393\n",
      "would: 54947\n",
      "president: 53163\n",
      "people: 41381\n",
      "republican: 38143\n",
      "one: 36806\n",
      "year: 34481\n",
      "also: 31194\n",
      "new: 30944\n",
      "reuters: 28769\n",
      "government: 28524\n",
      "clinton: 28167\n",
      "donald: 27660\n",
      "house: 27658\n",
      "time: 26870\n",
      "say: 25386\n",
      "obama: 24874\n",
      "country: 24832\n",
      "could: 23899\n",
      "united: 23540\n",
      "told: 23344\n",
      "election: 23180\n"
     ]
    }
   ],
   "source": [
    "# Get top words for the entire dataset\n",
    "top_words = get_top_words(df[\"cleaned_text\"], num_words=25)\n",
    "\n",
    "# Display results\n",
    "print(\"Top 25 Most Frequent Words:\")\n",
    "for word, count in top_words:\n",
    "    print(f\"{word}: {count}\")"
   ]
  },
  {
   "cell_type": "code",
   "execution_count": 20,
   "id": "7241804a-cda1-42ce-828a-de78cbe295d6",
   "metadata": {},
   "outputs": [],
   "source": [
    "# Get top words separately for fake and real news\n",
    "fake_words = get_top_words(df[df[\"label\"] == \"fake\"][\"cleaned_text\"], 20)\n",
    "real_words = get_top_words(df[df[\"label\"] == \"real\"][\"cleaned_text\"], 20)"
   ]
  },
  {
   "cell_type": "code",
   "execution_count": 21,
   "id": "2e154884-b110-47a2-8e95-03703bd3b5b6",
   "metadata": {},
   "outputs": [
    {
     "name": "stdout",
     "output_type": "stream",
     "text": [
      "\n",
      "Top Words in Fake News:\n",
      "trump: 74264\n",
      "said: 31013\n",
      "president: 26166\n",
      "people: 26053\n",
      "one: 23752\n",
      "would: 23427\n",
      "u: 22353\n",
      "state: 21997\n",
      "clinton: 18649\n",
      "like: 18164\n",
      "obama: 17813\n",
      "time: 17745\n",
      "donald: 17215\n",
      "republican: 16034\n",
      "american: 16026\n",
      "say: 15442\n",
      "also: 15242\n",
      "year: 15201\n",
      "new: 14158\n",
      "news: 14126\n"
     ]
    }
   ],
   "source": [
    "print(\"\\nTop Words in Fake News:\")\n",
    "for word, count in fake_words:\n",
    "    print(f\"{word}: {count}\")"
   ]
  },
  {
   "cell_type": "code",
   "execution_count": 22,
   "id": "69577576-6b56-4003-9551-0a340b3bf6a6",
   "metadata": {},
   "outputs": [
    {
     "name": "stdout",
     "output_type": "stream",
     "text": [
      "\n",
      "Top Words in Real News:\n",
      "said: 99039\n",
      "trump: 54353\n",
      "u: 41170\n",
      "state: 36396\n",
      "would: 31520\n",
      "reuters: 28404\n",
      "president: 26997\n",
      "republican: 22109\n",
      "government: 19466\n",
      "year: 19280\n",
      "house: 16935\n",
      "new: 16786\n",
      "also: 15952\n",
      "united: 15572\n",
      "people: 15328\n",
      "party: 14990\n",
      "official: 14580\n",
      "told: 14244\n",
      "country: 14106\n",
      "election: 13959\n"
     ]
    }
   ],
   "source": [
    "print(\"\\nTop Words in Real News:\")\n",
    "for word, count in real_words:\n",
    "    print(f\"{word}: {count}\")"
   ]
  },
  {
   "cell_type": "code",
   "execution_count": null,
   "id": "2f012ef2-0a2f-4c53-a7c4-2e1b99ae8336",
   "metadata": {},
   "outputs": [],
   "source": []
  },
  {
   "cell_type": "code",
   "execution_count": null,
   "id": "125dadf7-5a4e-405f-8959-89bcced9c90e",
   "metadata": {},
   "outputs": [],
   "source": []
  }
 ],
 "metadata": {
  "kernelspec": {
   "display_name": "Python 3 (ipykernel)",
   "language": "python",
   "name": "python3"
  },
  "language_info": {
   "codemirror_mode": {
    "name": "ipython",
    "version": 3
   },
   "file_extension": ".py",
   "mimetype": "text/x-python",
   "name": "python",
   "nbconvert_exporter": "python",
   "pygments_lexer": "ipython3",
   "version": "3.12.7"
  }
 },
 "nbformat": 4,
 "nbformat_minor": 5
}
