{
 "cells": [
  {
   "cell_type": "code",
   "execution_count": null,
   "id": "85a4c27e-c0ed-412a-ba38-8d7a002e1ddb",
   "metadata": {},
   "outputs": [],
   "source": []
  }
 ],
 "metadata": {
  "kernelspec": {
   "display_name": "",
   "name": ""
  },
  "language_info": {
   "name": ""
  }
 },
 "nbformat": 4,
 "nbformat_minor": 5
}
