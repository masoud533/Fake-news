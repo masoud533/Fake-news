{
 "cells": [
  {
   "cell_type": "code",
   "execution_count": null,
   "id": "fd18ee0b-72b4-472e-8c6e-0cc4cccbad4a",
   "metadata": {},
   "outputs": [],
   "source": []
  }
 ],
 "metadata": {
  "kernelspec": {
   "display_name": "",
   "name": ""
  },
  "language_info": {
   "name": ""
  }
 },
 "nbformat": 4,
 "nbformat_minor": 5
}
