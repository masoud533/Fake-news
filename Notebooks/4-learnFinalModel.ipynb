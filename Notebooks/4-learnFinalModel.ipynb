{
 "cells": [
  {
   "cell_type": "code",
   "execution_count": null,
   "id": "fd18ee0b-72b4-472e-8c6e-0cc4cccbad4a",
   "metadata": {},
   "outputs": [],
   "source": [
    "import os\n",
    "import pickle\n",
    "import sqlite3\n",
    "import numpy as np\n",
    "import pandas as pd\n",
    "from sklearn.model_selection import train_test_split\n",
    "from sklearn.linear_model import LogisticRegression"
   ]
  },
  {
   "cell_type": "code",
   "execution_count": null,
   "id": "e14cccf5-ec81-4f7c-9f94-fdbcdf827a66",
   "metadata": {},
   "outputs": [],
   "source": [
    "# Connect to database\n",
    "path = os.path.join('..', 'Database', 'news.db')\n",
    "conn = sqlite3.connect(path)\n",
    "cursor = conn.cursor()"
   ]
  },
  {
   "cell_type": "code",
   "execution_count": null,
   "id": "3af8a057-9491-466b-8cca-303cc3eba51a",
   "metadata": {},
   "outputs": [],
   "source": [
    "# Load TF-IDF features\n",
    "cursor.execute(\"SELECT data FROM features WHERE type = 'tfidf'\")\n",
    "X_tfidf_compressed = cursor.fetchone()[0]\n",
    "X_tfidf = pickle.loads(X_tfidf_compressed)\n",
    "print(\"Features loaded successfully!\")"
   ]
  },
  {
   "cell_type": "code",
   "execution_count": null,
   "id": "490fa01f-5509-4395-a094-17a07c5431dd",
   "metadata": {},
   "outputs": [],
   "source": [
    "# Load labels from the original dataset\n",
    "df= pd.read_sql(\"SELECT id, label FROM cleanedText\", conn) \n",
    "df['label'] = df['label'].apply(lambda x: 1 if x == 'real' else (0 if x == 'fake' else None))"
   ]
  },
  {
   "cell_type": "code",
   "execution_count": null,
   "id": "29d21a2e-8953-474d-88f6-f427f47a0a33",
   "metadata": {},
   "outputs": [],
   "source": [
    "# Assuming X_tfidf is the extracted features\n",
    "y = df['label'].values # Labels (0: Fake, 1: Real) "
   ]
  },
  {
   "cell_type": "code",
   "execution_count": null,
   "id": "70cd59e1-e765-40e3-bc61-4e416cf64c6d",
   "metadata": {},
   "outputs": [],
   "source": [
    "# Split data into 80% training and 20% testing\n",
    "X_train, X_test, y_train, y_test = train_test_split(X_tfidf, y, test_size=0.2, random_state=4893)\n",
    "print(\"Data split into training and testing sets!\")\n",
    "print(\"Train size: \", X_train.shape, \"Test size: \", X_test.shape)"
   ]
  },
  {
   "cell_type": "code",
   "execution_count": null,
   "id": "97112853-94b0-4fbb-856a-aa30820bb464",
   "metadata": {},
   "outputs": [],
   "source": [
    "# Train onest model (Logistic Regression)\n",
    "lr_model = LogisticRegression()\n",
    "lr_model.fit(X_train, y_train)"
   ]
  },
  {
   "cell_type": "code",
   "execution_count": null,
   "id": "2016551d-1172-4bb1-97d9-19e8e60840e2",
   "metadata": {},
   "outputs": [],
   "source": []
  }
 ],
 "metadata": {
  "kernelspec": {
   "display_name": "Python 3 (ipykernel)",
   "language": "python",
   "name": "python3"
  },
  "language_info": {
   "codemirror_mode": {
    "name": "ipython",
    "version": 3
   },
   "file_extension": ".py",
   "mimetype": "text/x-python",
   "name": "python",
   "nbconvert_exporter": "python",
   "pygments_lexer": "ipython3",
   "version": "3.12.7"
  }
 },
 "nbformat": 4,
 "nbformat_minor": 5
}
