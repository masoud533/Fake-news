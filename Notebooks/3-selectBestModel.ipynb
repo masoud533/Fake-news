{
 "cells": [
  {
   "cell_type": "code",
   "execution_count": 9,
   "id": "26453d01-250b-4bcd-ae18-88e86fa1815a",
   "metadata": {},
   "outputs": [],
   "source": [
    "import os\n",
    "import pickle\n",
    "import sqlite3\n",
    "import numpy as np\n",
    "import pandas as pd\n",
    "from sklearn.model_selection import train_test_split"
   ]
  },
  {
   "cell_type": "code",
   "execution_count": 14,
   "id": "962d0423-9e77-4b57-88ee-39ce53ced268",
   "metadata": {},
   "outputs": [],
   "source": [
    "# Connect to database\n",
    "path = os.path.join('..', 'Database', 'news.db')\n",
    "conn = sqlite3.connect(path)\n",
    "cursor = conn.cursor()"
   ]
  },
  {
   "cell_type": "code",
   "execution_count": 7,
   "id": "ef99d6e7-fa27-489e-8c3f-d718a745a48e",
   "metadata": {},
   "outputs": [
    {
     "name": "stdout",
     "output_type": "stream",
     "text": [
      "Features loaded successfully!\n"
     ]
    }
   ],
   "source": [
    "# Load TF-IDF features\n",
    "cursor.execute(\"SELECT data FROM features WHERE type = 'tfidf'\")\n",
    "X_tfidf_compressed = cursor.fetchone()[0]\n",
    "X_tfidf = pickle.loads(X_tfidf_compressed)\n",
    "print(\"Features loaded successfully!\")"
   ]
  },
  {
   "cell_type": "code",
   "execution_count": null,
   "id": "8905780f-f388-4b42-886d-6ff4866e3601",
   "metadata": {},
   "outputs": [],
   "source": [
    "# Load labels from the original dataset\n",
    "conn = sqlite3.connect(\"fake_news.db\")\n",
    "df = pd.read_sql(\"SELECT id, label FROM news_cleaned\", conn)\n",
    "conn.close()\n",
    "\n",
    "# Assuming X_tfidf is the extracted features\n",
    "y = df[\"label\"].values  # Labels (0: Fake, 1: Real)\n",
    "\n",
    "# Split data into 80% training and 20% testing\n",
    "X_train, X_test, y_train, y_test = train_test_split(X_tfidf, y, test_size=0.2, random_state=42)\n",
    "\n",
    "print(\"✅ Data split into training and testing sets!\")\n",
    "print(\"Train size:\", X_train.shape, \"Test size:\", X_test.shape)"
   ]
  },
  {
   "cell_type": "code",
   "execution_count": 59,
   "id": "447b988b-b0fd-4777-9c4e-7ccf93e7da85",
   "metadata": {},
   "outputs": [],
   "source": [
    "# Load labels from the original dataset\n",
    "df= pd.read_sql(\"SELECT id, label FROM cleanedText\", conn) \n",
    "df['label'] = df['label'].apply(lambda x: 1 if x == 'real' else (0 if x == 'fake' else None))"
   ]
  },
  {
   "cell_type": "code",
   "execution_count": 60,
   "id": "2c7c49fc-c1b6-4964-a77d-18e9322fd042",
   "metadata": {},
   "outputs": [],
   "source": [
    "# Assuming X_tfidf is the extracted features\n",
    "y = df['label'].values # Labels (0: Fake, 1: Real)"
   ]
  },
  {
   "cell_type": "code",
   "execution_count": 61,
   "id": "875d590e-6165-44ed-9d05-2d9a73ae2b1a",
   "metadata": {},
   "outputs": [
    {
     "name": "stdout",
     "output_type": "stream",
     "text": [
      "Data split into training and testing sets!\n",
      "Train size:  (35918, 5000) Test size:  (8980, 5000)\n"
     ]
    }
   ],
   "source": [
    "# Split data into 80% training and 20% testing\n",
    "X_train, X_test, y_train, y_test = train_test_split(X_tfidf, y, test_size=0.2, random_state=1311)\n",
    "print(\"Data split into training and testing sets!\")\n",
    "print(\"Train size: \", X_train.shape, \"Test size: \", X_test.shape)"
   ]
  },
  {
   "cell_type": "code",
   "execution_count": null,
   "id": "b7d709e7-d7d8-4b9d-9c84-ff662ebbf7ae",
   "metadata": {},
   "outputs": [],
   "source": []
  },
  {
   "cell_type": "code",
   "execution_count": null,
   "id": "89f75d0b-6bed-4d7f-a74a-24ad1c88d030",
   "metadata": {},
   "outputs": [],
   "source": []
  }
 ],
 "metadata": {
  "kernelspec": {
   "display_name": "Python 3 (ipykernel)",
   "language": "python",
   "name": "python3"
  },
  "language_info": {
   "codemirror_mode": {
    "name": "ipython",
    "version": 3
   },
   "file_extension": ".py",
   "mimetype": "text/x-python",
   "name": "python",
   "nbconvert_exporter": "python",
   "pygments_lexer": "ipython3",
   "version": "3.12.7"
  }
 },
 "nbformat": 4,
 "nbformat_minor": 5
}
