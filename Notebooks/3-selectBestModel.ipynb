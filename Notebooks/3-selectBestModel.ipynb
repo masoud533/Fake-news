{
 "cells": [
  {
   "cell_type": "code",
   "execution_count": 3,
   "id": "26453d01-250b-4bcd-ae18-88e86fa1815a",
   "metadata": {},
   "outputs": [],
   "source": [
    "import os\n",
    "import pickle\n",
    "import sqlite3\n",
    "import pandas as pd"
   ]
  },
  {
   "cell_type": "code",
   "execution_count": null,
   "id": "961065f0-e053-4180-8ccf-c741edf1dd1e",
   "metadata": {},
   "outputs": [],
   "source": [
    "# Connect to database\n",
    "conn = sqlite3.connect(\"fake_news.db\")\n",
    "cursor = conn.cursor()\n",
    "\n",
    "# Load TF-IDF features\n",
    "cursor.execute(\"SELECT data FROM features WHERE type = 'tfidf'\")\n",
    "X_tfidf_compressed = cursor.fetchone()[0]\n",
    "X_tfidf = pickle.loads(X_tfidf_compressed)\n",
    "\n",
    "conn.close()\n",
    "\n",
    "print(\"✅ Features loaded successfully!\")"
   ]
  },
  {
   "cell_type": "code",
   "execution_count": null,
   "id": "962d0423-9e77-4b57-88ee-39ce53ced268",
   "metadata": {},
   "outputs": [],
   "source": [
    "conn = sqlite3"
   ]
  },
  {
   "cell_type": "code",
   "execution_count": null,
   "id": "ef99d6e7-fa27-489e-8c3f-d718a745a48e",
   "metadata": {},
   "outputs": [],
   "source": []
  },
  {
   "cell_type": "code",
   "execution_count": null,
   "id": "63659021-b6d3-4955-853f-bb7d50bc1883",
   "metadata": {},
   "outputs": [],
   "source": []
  },
  {
   "cell_type": "code",
   "execution_count": null,
   "id": "8905780f-f388-4b42-886d-6ff4866e3601",
   "metadata": {},
   "outputs": [],
   "source": []
  }
 ],
 "metadata": {
  "kernelspec": {
   "display_name": "Python 3 (ipykernel)",
   "language": "python",
   "name": "python3"
  },
  "language_info": {
   "codemirror_mode": {
    "name": "ipython",
    "version": 3
   },
   "file_extension": ".py",
   "mimetype": "text/x-python",
   "name": "python",
   "nbconvert_exporter": "python",
   "pygments_lexer": "ipython3",
   "version": "3.12.7"
  }
 },
 "nbformat": 4,
 "nbformat_minor": 5
}
